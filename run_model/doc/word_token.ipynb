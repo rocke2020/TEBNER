{
 "cells": [
  {
   "cell_type": "code",
   "execution_count": 1,
   "metadata": {},
   "outputs": [
    {
     "name": "stdout",
     "output_type": "stream",
     "text": [
      "['Good', 'muffins', 'cost', '$', '3.88', 'in', 'New', 'York.', 'Please', 'buy', 'me', 'two', 'of', 'them.', 'Thanks', ',', 'e.g.', 'the', 'tokenizer', 'sed', 'script', 'written', 'by', 'Robert', 'McIntyre', '.']\n",
      "['Good', 'muffins', 'cost', '$', '3.88', 'in', 'New', 'York', '.', 'Please', 'buy', 'me', 'two', 'of', 'them', '.', 'Thanks', ',', 'e.g', '.', 'the', 'tokenizer', 'sed', 'script', 'written', 'by', 'Robert', 'McIntyre', '.']\n"
     ]
    }
   ],
   "source": [
    "from nltk import TreebankWordTokenizer\n",
    "from nltk.tokenize import word_tokenize\n",
    "\n",
    "a = 'Good muffins cost $3.88\\nin New York.  Please buy me\\ntwo of them.\\nThanks, e.g. the tokenizer sed script written by    Robert  McIntyre.'\n",
    "\n",
    "# Generally word_tokenize did better than TreebankWordTokenizer\n",
    "print(TreebankWordTokenizer().tokenize(a))\n",
    "print(word_tokenize(a))\n"
   ]
  },
  {
   "cell_type": "code",
   "execution_count": null,
   "metadata": {},
   "outputs": [],
   "source": []
  }
 ],
 "metadata": {
  "interpreter": {
   "hash": "bac6a29c966a8539dcc16ed9437348d878b55067e7defc08c8422a4765ee60c0"
  },
  "kernelspec": {
   "display_name": "Python 3.9.7 ('th10')",
   "language": "python",
   "name": "python3"
  },
  "language_info": {
   "codemirror_mode": {
    "name": "ipython",
    "version": 3
   },
   "file_extension": ".py",
   "mimetype": "text/x-python",
   "name": "python",
   "nbconvert_exporter": "python",
   "pygments_lexer": "ipython3",
   "version": "3.9.7"
  },
  "orig_nbformat": 4
 },
 "nbformat": 4,
 "nbformat_minor": 2
}
